{
 "cells": [
  {
   "cell_type": "markdown",
   "metadata": {},
   "source": [
    "# Surface velocity estimation using RGDyn toolbox\"\n",
    "\n",
    "## Diego Cusicanqui, Ph.D. <sup>1,2</sup>\n",
    "\n",
    "<sup>1</sup> Institut des Sciences de la Terre, Univ. Grenoble Alpes, Saint Martin d'Hères, France \\\n",
    "<sup>2</sup> Laboratoire EDyTEM, Univ. Savoie Mont-Blanc, Le Bourget du lac, France\n",
    "\n",
    "04-15 december of 2022\n",
    "La Serena, Chile\n",
    "\n",
    "<img src=https://materre.osug.fr/IMG/jpg/osuglogoposrgb.jpg width=\"100\" height=\"50\" style=\"margin:auto\"/>\n",
    "\n",
    "<img src=https://upload.wikimedia.org/wikipedia/fr/thumb/8/8e/Centre_national_de_la_recherche_scientifique.svg/2048px-Centre_national_de_la_recherche_scientifique.svg.png width=\"100\" height=\"50\" style=\"margin:auto\"/>\n",
    "\n",
    "<img src=https://upload.wikimedia.org/wikipedia/fr/thumb/c/c7/Logo_Universit%C3%A9_Savoie_Mont_Blanc_2015.svg/1200px-Logo_Universit%C3%A9_Savoie_Mont_Blanc_2015.svg.png width=\"100\" height=\"50\" style=\"margin:auto\"/>"
   ]
  },
  {
   "cell_type": "markdown",
   "metadata": {},
   "source": [
    "## IMPORTANT: All lines of code listed below, should be executed on Virtual machine Linux terminal"
   ]
  },
  {
   "cell_type": "markdown",
   "metadata": {},
   "source": [
    "First to all, you need to open XMoba-term in UiB linux virtual machine.\n",
    "Once you are connected, you need to activate the python environment where all libraries related to RGDyn are installed.\n",
    "Type the line below to activate it."
   ]
  },
  {
   "cell_type": "markdown",
   "metadata": {},
   "source": [
    "`conda activate rgdyn`"
   ]
  },
  {
   "cell_type": "markdown",
   "metadata": {},
   "source": [
    "Then, move to the folder where data are stored"
   ]
  },
  {
   "cell_type": "markdown",
   "metadata": {},
   "source": [
    "`cd data/La_laguna_velocity`"
   ]
  },
  {
   "cell_type": "markdown",
   "metadata": {},
   "source": [
    "## Preparing data"
   ]
  },
  {
   "cell_type": "markdown",
   "metadata": {},
   "source": [
    "First of all, you have to chose a pair of image for processing. Then, we need to change the name of the image specifying the acquisitin date at the beguining of the filename following the format `YYYYMMdd`. For example: `20200810_IMGA.tif` and `20220810_IMGB.tif`"
   ]
  },
  {
   "cell_type": "markdown",
   "metadata": {
    "slideshow": {
     "slide_type": "slide"
    }
   },
   "source": [
    "In Linux, you can change the filename using the following commad:\n",
    "`mv Image_with_one_mane.tif Image_with_new_name.tif`"
   ]
  },
  {
   "cell_type": "markdown",
   "metadata": {},
   "source": [
    "Then, once you have to choossen the pair of image for image correlation, we will proceed to prepare the dataset. For that, we will use `rgdyn_clip.py` script which makes this process automatically. Usage of this script, could be obtain by invoking help function `rgdyn_clip.py -h` to get the help.\n",
    "See the example bellow:"
   ]
  },
  {
   "cell_type": "markdown",
   "metadata": {},
   "source": [
    "`rgdyn_clip.py IMGA.tif IMGB2.tif`"
   ]
  },
  {
   "cell_type": "markdown",
   "metadata": {},
   "source": [
    "## Correlation"
   ]
  },
  {
   "cell_type": "markdown",
   "metadata": {},
   "source": [
    "During this process, we obtain a pair of images with `*corr_ok.tif` extension, which are ready to make image correlation.\n",
    "Then, we will use `rgdyn_corr.py` to make feature tracking processing (`rgdyn_corr.py -h` to get script usage).\n",
    "See the example below:"
   ]
  },
  {
   "cell_type": "markdown",
   "metadata": {},
   "source": [
    "`rgdyn_corr.py IMGA_corr_ok.tif IMGB_corr_ok.tif --out_dir run_corr --out_prefix run_{YYYYMMdd_IMGA}_{YYYYMMdd_IMGB}`"
   ]
  },
  {
   "cell_type": "markdown",
   "metadata": {},
   "source": [
    "Once the correlation finish, you need to look inside of `run_corr` directory for the results.\n",
    "\n",
    "The final surface displacement map is some file with `*F.tif` extension.\n",
    "This file contains 3 bands which are:\n",
    "- Band 1 --> E-W pixel displacements.\n",
    "- Band 2 --> N-S pixel displacements.\n",
    "- Band 3 --> GoodPixelMap (all good matching pixels available for correlation)."
   ]
  },
  {
   "cell_type": "markdown",
   "metadata": {},
   "source": [
    "## Post-processing"
   ]
  },
  {
   "cell_type": "markdown",
   "metadata": {},
   "source": [
    "The results of surface displacements are expressed in pixels and we need to convert into meters. For that, we can use `rgdyn_magn.py` for that purposse (`rgdyn_corr.py -h` to get script usage). This script will generate a rasterfile with displacements in meters. If `--dt` option is specified, an aditional surface displacement map in meters/year will be generated."
   ]
  },
  {
   "cell_type": "markdown",
   "metadata": {},
   "source": [
    "`rgdyn_magn.py --dt run_corr/run_{YYYYMMdd_IMGA}_{YYYYMMdd_IMGB}-F.tif --magnitude_file run_corr/run_{YYYYMMdd_IMGA}_{YYYYMMdd_IMGB}-F_magn_m.tif`"
   ]
  },
  {
   "cell_type": "markdown",
   "metadata": {},
   "source": [
    "Finally, you will use `rgdyn_vect.py` in order to generate a shapefile which contains surface displacements components (dx and dy). Whith this file, is possible to generate \"vector arrows\" generally used for visualization."
   ]
  },
  {
   "cell_type": "markdown",
   "metadata": {},
   "source": [
    "Once generated all the above mentined files, you can open in QGIS typing:\n",
    "`qgis YYYMMdd_IMGA_corr_ok.tif YYYMMdd_IMGB_corr_ok.tif YYYYMMdd_IMGB-F_magn_m.tif YYYYMMdd_IMGB-F_magn_my.tif run_YYYYMMdd_IMGA_YYYYMMdd_IMGB-F_arrows.shp`"
   ]
  }
 ],
 "metadata": {
  "kernelspec": {
   "display_name": "Python 3 (ipykernel)",
   "language": "python",
   "name": "python3"
  },
  "language_info": {
   "codemirror_mode": {
    "name": "ipython",
    "version": 3
   },
   "file_extension": ".py",
   "mimetype": "text/x-python",
   "name": "python",
   "nbconvert_exporter": "python",
   "pygments_lexer": "ipython3",
   "version": "3.10.5"
  },
  "vscode": {
   "interpreter": {
    "hash": "916dbcbb3f70747c44a77c7bcd40155683ae19c65e1c03b4aa3499c5328201f1"
   }
  }
 },
 "nbformat": 4,
 "nbformat_minor": 2
}
